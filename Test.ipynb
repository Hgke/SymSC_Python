{
 "cells": [
  {
   "cell_type": "code",
   "execution_count": 1,
   "id": "3b8c76d5",
   "metadata": {},
   "outputs": [],
   "source": [
    "from Objects import L, JJ, Ib\n",
    "from FunctionCompiler import *"
   ]
  },
  {
   "cell_type": "code",
   "execution_count": 2,
   "id": "4ab8f163",
   "metadata": {},
   "outputs": [],
   "source": [
    "JJ1 = JJ.JJ(loc=[1, 0])\n",
    "JJ2 = JJ.JJ(loc=[2, 0], A=0.5, al=2)\n",
    "L1 = L.L(loc=[1, 2])\n",
    "Ib1 = Ib.Ib(loc=[1])"
   ]
  },
  {
   "cell_type": "code",
   "execution_count": 3,
   "id": "a3528520",
   "metadata": {},
   "outputs": [],
   "source": [
    "fc = FunctionCompiler([JJ1, JJ2, L1, Ib1], 'Ib1.val')\n",
    "fc.compile()"
   ]
  },
  {
   "cell_type": "code",
   "execution_count": 4,
   "id": "706ba4b5",
   "metadata": {},
   "outputs": [
    {
     "name": "stdout",
     "output_type": "stream",
     "text": [
      "Eq(Derivative(y[1], t), y[N + 1])\n",
      "Eq(Derivative(y[2], t), y[N + 2])\n",
      "Eq(Derivative(y[N + 1], t), Ib4.val - JJ1.A*sin(y[1]) - JJ1.B*sin(2*y[1]) - JJ1.al*Derivative(y[1], t) - (y[1] - y[2])/L3.val)\n",
      "Eq(Derivative(y[N + 2], t), -JJ2.A*sin(y[2]) - JJ2.B*sin(2*y[2]) - JJ2.al*Derivative(y[2], t) + (y[1] - y[2])/L3.val)\n"
     ]
    }
   ],
   "source": [
    "fc.print_equations(fc.final_system)"
   ]
  },
  {
   "cell_type": "code",
   "execution_count": 9,
   "id": "3b5f379a",
   "metadata": {},
   "outputs": [
    {
     "data": {
      "text/plain": [
       "[1, 2, 3, 4, 5, 6, 4, 5, 6]"
      ]
     },
     "execution_count": 9,
     "metadata": {},
     "output_type": "execute_result"
    }
   ],
   "source": [
    "x = [1,2,3]\n",
    "y = [4,5,6]\n",
    "\n",
    "x+y+y"
   ]
  },
  {
   "cell_type": "code",
   "execution_count": 5,
   "id": "a2051d52",
   "metadata": {},
   "outputs": [
    {
     "data": {
      "text/plain": [
       "[Eq(I[JJ1], JJ1.A*sin(y[1]) + JJ1.B*sin(2*y[1]) + JJ1.al*Derivative(y[1], t) + Derivative(y[N + 1], t)),\n",
       " Eq(I[JJ2], JJ2.A*sin(y[2]) + JJ2.B*sin(2*y[2]) + JJ2.al*Derivative(y[2], t) + Derivative(y[N + 2], t)),\n",
       " Eq(I[L3], (y[1] - y[2])/L3.val),\n",
       " Eq(I[Ib4], -Ib4.val)]"
      ]
     },
     "execution_count": 5,
     "metadata": {},
     "output_type": "execute_result"
    }
   ],
   "source": [
    "fc.current_eq"
   ]
  },
  {
   "cell_type": "code",
   "execution_count": 7,
   "id": "f157654d",
   "metadata": {},
   "outputs": [
    {
     "data": {
      "text/plain": [
       "[Eq(Derivative(y[1], t), y[N + 1]),\n",
       " Eq(Derivative(y[2], t), y[N + 2]),\n",
       " Eq(Derivative(y[N + 1], t), Derivative(y[N + 1], t) - I[Ib4] - I[JJ1] - I[L3]),\n",
       " Eq(Derivative(y[N + 2], t), Derivative(y[N + 2], t) - I[JJ2] + I[L3])]"
      ]
     },
     "execution_count": 7,
     "metadata": {},
     "output_type": "execute_result"
    }
   ],
   "source": [
    "fc.another_eq"
   ]
  },
  {
   "cell_type": "code",
   "execution_count": null,
   "id": "d1132cb0",
   "metadata": {},
   "outputs": [],
   "source": []
  }
 ],
 "metadata": {
  "kernelspec": {
   "display_name": "Python 3",
   "language": "python",
   "name": "python3"
  },
  "language_info": {
   "codemirror_mode": {
    "name": "ipython",
    "version": 3
   },
   "file_extension": ".py",
   "mimetype": "text/x-python",
   "name": "python",
   "nbconvert_exporter": "python",
   "pygments_lexer": "ipython3",
   "version": "3.8.8"
  }
 },
 "nbformat": 4,
 "nbformat_minor": 5
}
