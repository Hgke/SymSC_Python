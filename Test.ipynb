{
 "cells": [
  {
   "cell_type": "code",
   "execution_count": 1,
   "id": "3b8c76d5",
   "metadata": {},
   "outputs": [],
   "source": [
    "from Objects import L, JJ, Ib\n",
    "from FunctionCompiler import *"
   ]
  },
  {
   "cell_type": "code",
   "execution_count": 2,
   "id": "4ab8f163",
   "metadata": {},
   "outputs": [],
   "source": [
    "JJ1 = JJ.JJ(loc=[1, 0])\n",
    "JJ2 = JJ.JJ(loc=[2, 0], A=0.5, al=2)\n",
    "L1 = L.L(loc=[1, 2])\n",
    "Ib1 = Ib.Ib(loc=[1])"
   ]
  },
  {
   "cell_type": "code",
   "execution_count": 3,
   "id": "a3528520",
   "metadata": {},
   "outputs": [],
   "source": [
    "fc = FunctionCompiler([JJ1, JJ2, L1, Ib1], 'Ib1.val')\n",
    "fc.compile()"
   ]
  },
  {
   "cell_type": "code",
   "execution_count": 4,
   "id": "9d687f50",
   "metadata": {},
   "outputs": [
    {
     "data": {
      "text/plain": [
       "[Derivative(y[N + 1], t), Derivative(y[N + 2], t)]"
      ]
     },
     "execution_count": 4,
     "metadata": {},
     "output_type": "execute_result"
    }
   ],
   "source": [
    "fc.X"
   ]
  },
  {
   "cell_type": "code",
   "execution_count": 5,
   "id": "0c19410f",
   "metadata": {},
   "outputs": [
    {
     "data": {
      "text/latex": [
       "$\\displaystyle \\left[\\begin{matrix}1 & 0\\\\0 & 1\\end{matrix}\\right]$"
      ],
      "text/plain": [
       "Matrix([\n",
       "[1, 0],\n",
       "[0, 1]])"
      ]
     },
     "execution_count": 5,
     "metadata": {},
     "output_type": "execute_result"
    }
   ],
   "source": [
    "fc.A"
   ]
  },
  {
   "cell_type": "code",
   "execution_count": 6,
   "id": "706ba4b5",
   "metadata": {},
   "outputs": [
    {
     "data": {
      "text/plain": [
       "[Ib4.val - JJ1.A*sin(y[1]) - JJ1.B*sin(2*y[1]) - JJ1.al*Derivative(y[1], t) - (y[1] - y[2])/L3.val,\n",
       " -JJ2.A*sin(y[2]) - JJ2.B*sin(2*y[2]) - JJ2.al*Derivative(y[2], t) + (y[1] - y[2])/L3.val]"
      ]
     },
     "execution_count": 6,
     "metadata": {},
     "output_type": "execute_result"
    }
   ],
   "source": [
    "fc.B"
   ]
  },
  {
   "cell_type": "code",
   "execution_count": 7,
   "id": "c9008f70",
   "metadata": {},
   "outputs": [
    {
     "name": "stdout",
     "output_type": "stream",
     "text": [
      "Eq(Derivative(y[1], t), y[N + 1])\n",
      "Eq(Derivative(y[2], t), y[N + 2])\n",
      "Eq(Derivative(y[N + 1], t), Ib4.val - JJ1.A*sin(y[1]) - JJ1.B*sin(2*y[1]) - JJ1.al*Derivative(y[1], t) - (y[1] - y[2])/L3.val)\n",
      "Eq(Derivative(y[N + 2], t), -JJ2.A*sin(y[2]) - JJ2.B*sin(2*y[2]) - JJ2.al*Derivative(y[2], t) + (y[1] - y[2])/L3.val)\n"
     ]
    }
   ],
   "source": [
    "fc.print_equations(fc.final_system)"
   ]
  },
  {
   "cell_type": "code",
   "execution_count": null,
   "id": "576ffd9a",
   "metadata": {},
   "outputs": [],
   "source": []
  }
 ],
 "metadata": {
  "kernelspec": {
   "display_name": "Python 3",
   "language": "python",
   "name": "python3"
  },
  "language_info": {
   "codemirror_mode": {
    "name": "ipython",
    "version": 3
   },
   "file_extension": ".py",
   "mimetype": "text/x-python",
   "name": "python",
   "nbconvert_exporter": "python",
   "pygments_lexer": "ipython3",
   "version": "3.8.8"
  }
 },
 "nbformat": 4,
 "nbformat_minor": 5
}
