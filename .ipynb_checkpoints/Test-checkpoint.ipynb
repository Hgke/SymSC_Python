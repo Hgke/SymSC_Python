{
 "cells": [
  {
   "cell_type": "code",
   "execution_count": 1,
   "id": "3b8c76d5",
   "metadata": {},
   "outputs": [],
   "source": [
    "import numpy as np\n",
    "from matplotlib import pyplot as plt\n",
    "\n",
    "from Objects import L, JJ, Ib\n",
    "from FunctionCompiler import *"
   ]
  },
  {
   "cell_type": "code",
   "execution_count": 2,
   "id": "4ab8f163",
   "metadata": {},
   "outputs": [],
   "source": [
    "JJ1 = JJ.JJ(loc=[1, 0])\n",
    "JJ2 = JJ.JJ(loc=[2, 0], A=0.5, al=2)\n",
    "L1 = L.L(loc=[1, 2])\n",
    "Ib1 = Ib.Ib(loc=[1])"
   ]
  },
  {
   "cell_type": "code",
   "execution_count": 3,
   "id": "a3528520",
   "metadata": {},
   "outputs": [
    {
     "name": "stdout",
     "output_type": "stream",
     "text": [
      "Generated objects are: JJ1 JJ2 L1 Ib1\n"
     ]
    }
   ],
   "source": [
    "fc = FunctionCompiler([JJ1, JJ2, L1, Ib1], 'Ib1.val', 0.75)\n",
    "fc.compile()"
   ]
  },
  {
   "cell_type": "code",
   "execution_count": 4,
   "id": "e3bea2d9",
   "metadata": {},
   "outputs": [],
   "source": [
    "t = np.arange(0, 200, 0.1)\n",
    "sol = fc.solve(t, np.zeros(4))"
   ]
  },
  {
   "cell_type": "code",
   "execution_count": 5,
   "id": "1d7b18b8",
   "metadata": {},
   "outputs": [],
   "source": [
    "P_JJ1 = JJ1.get_data(\"P\", t, sol);\n",
    "P_JJ2 = JJ2.get_data(\"P\", t, sol);\n",
    "P_L1  = L1.get_data(\"P\", t, sol);\n",
    "\n",
    "V_JJ1 = JJ1.get_data(\"V\", t, sol);\n",
    "V_JJ2 = JJ2.get_data(\"V\", t, sol);"
   ]
  },
  {
   "cell_type": "code",
   "execution_count": 6,
   "id": "25c9dc3b",
   "metadata": {},
   "outputs": [
    {
     "data": {
      "text/plain": [
       "[<matplotlib.lines.Line2D at 0x216add94610>]"
      ]
     },
     "execution_count": 6,
     "metadata": {},
     "output_type": "execute_result"
    },
    {
     "data": {
      "image/png": "[encoded data removed]",
      "text/plain": [
       "<Figure size 432x288 with 1 Axes>"
      ]
     },
     "metadata": {
      "needs_background": "light"
     },
     "output_type": "display_data"
    },
    {
     "data": {
      "image/png": "[encoded data removed]",
      "text/plain": [
       "<Figure size 432x288 with 1 Axes>"
      ]
     },
     "metadata": {
      "needs_background": "light"
     },
     "output_type": "display_data"
    }
   ],
   "source": [
    "plt.plot(P_JJ1[:,0], P_JJ1[:,1])\n",
    "plt.plot(P_JJ2[:,0], P_JJ2[:,1])\n",
    "plt.plot(P_L1[:,0], P_L1[:,1])\n",
    "\n",
    "plt.figure()\n",
    "plt.plot(V_JJ1[:,0], V_JJ1[:,1])\n",
    "plt.plot(V_JJ2[:,0], V_JJ2[:,1])"
   ]
  },
  {
   "cell_type": "code",
   "execution_count": null,
   "id": "b1f43809",
   "metadata": {},
   "outputs": [],
   "source": []
  },
  {
   "cell_type": "code",
   "execution_count": null,
   "id": "9f865340",
   "metadata": {},
   "outputs": [],
   "source": []
  }
 ],
 "metadata": {
  "kernelspec": {
   "display_name": "Python 3",
   "language": "python",
   "name": "python3"
  },
  "language_info": {
   "codemirror_mode": {
    "name": "ipython",
    "version": 3
   },
   "file_extension": ".py",
   "mimetype": "text/x-python",
   "name": "python",
   "nbconvert_exporter": "python",
   "pygments_lexer": "ipython3",
   "version": "3.8.8"
  }
 },
 "nbformat": 4,
 "nbformat_minor": 5
}
