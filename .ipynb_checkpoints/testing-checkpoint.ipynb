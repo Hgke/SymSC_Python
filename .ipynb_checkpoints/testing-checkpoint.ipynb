{
 "cells": [
  {
   "cell_type": "code",
   "execution_count": 1,
   "id": "3f58725b",
   "metadata": {},
   "outputs": [],
   "source": [
    "import numpy as np\n",
    "from matplotlib import pyplot as plt\n",
    "\n",
    "from Objects import L, JJ, Ib, JTL, Pulses\n",
    "from FunctionCompiler import *"
   ]
  },
  {
   "cell_type": "code",
   "execution_count": 2,
   "id": "88378eea",
   "metadata": {},
   "outputs": [],
   "source": [
    "JTL1 = JTL.JTL(loc=[1,2], N=3, ib_val=0)\n",
    "JTL2 = JTL.JTL(loc=[7,6], N=3, ib_val=0)\n",
    "JTL3 = JTL.JTL(loc=[9,10], N=3)\n",
    "\n",
    "JJ1 = JJ.JJ(loc=[3,0])\n",
    "JJ2 = JJ.JJ(loc=[4,0])\n",
    "JJ3 = JJ.JJ(loc=[8,0])\n",
    "JJ4 = JJ.JJ(loc=[5,4])\n",
    "\n",
    "L1 = L.L(loc=[3,4])\n",
    "L2 = L.L(loc=[4,8])\n",
    "L3 = L.L(loc=[2,3])\n",
    "L4 = L.L(loc=[6,5])\n",
    "L5 = L.L(loc=[8,9])\n",
    "\n",
    "Pulses1 = Pulses.Pulses(loc=[1], t0 = 5, A = 10, T = 100)\n",
    "Pulses2 = Pulses.Pulses(loc=[7], t0 = 4, A = 0.01, T = 500)\n"
   ]
  },
  {
   "cell_type": "code",
   "execution_count": 3,
   "id": "a078b697",
   "metadata": {},
   "outputs": [
    {
     "name": "stdout",
     "output_type": "stream",
     "text": [
      "Generated objects are: JJ1 JJ2 JJ3 JJ4 L1 L2 L3 L4 L5 Pulses1 Pulses2 JTL1_JJ1 JTL1_Ib1 JTL1_L1 JTL1_JJ2 JTL1_Ib2 JTL1_L2 JTL1_JJ3 JTL1_Ib3 JTL2_JJ1 JTL2_Ib1 JTL2_L1 JTL2_JJ2 JTL2_Ib2 JTL2_L2 JTL2_JJ3 JTL2_Ib3 JTL3_JJ1 JTL3_Ib1 JTL3_L1 JTL3_JJ2 JTL3_Ib2 JTL3_L2 JTL3_JJ3 JTL3_Ib3\n"
     ]
    }
   ],
   "source": [
    "fc = FunctionCompiler([JJ1, JJ2, JJ3, JJ4, L1, L2, L3, L4, L5, JTL1, JTL2, JTL3, Pulses1, Pulses2], 'L1.val', 0.75)\n",
    "fc.compile()"
   ]
  },
  {
   "cell_type": "code",
   "execution_count": 4,
   "id": "0c75243d",
   "metadata": {},
   "outputs": [],
   "source": [
    "t = np.arange(0, 100, 0.1)\n",
    "sol = fc.solve(t, np.zeros(35))\n"
   ]
  },
  {
   "cell_type": "code",
   "execution_count": 5,
   "id": "3bdcf66a",
   "metadata": {},
   "outputs": [],
   "source": [
    "P_JJ1 = JJ1.get_data(\"P\", t, sol);\n",
    "P_JJ4 = JJ4.get_data(\"P\", t, sol);\n",
    "\n",
    "V_JJ1 = JJ1.get_data(\"V\", t, sol);\n",
    "V_JJ4 = JJ4.get_data(\"V\", t, sol);\n",
    "V_JJ3 = JJ3.get_data(\"V\", t, sol);"
   ]
  },
  {
   "cell_type": "code",
   "execution_count": 7,
   "id": "725d98c1",
   "metadata": {},
   "outputs": [
    {
     "data": {
      "text/plain": [
       "[<matplotlib.lines.Line2D at 0x279017150a0>]"
      ]
     },
     "execution_count": 7,
     "metadata": {},
     "output_type": "execute_result"
    },
    {
     "data": {
      "image/png": "[encoded data removed]",
      "text/plain": [
       "<Figure size 432x288 with 1 Axes>"
      ]
     },
     "metadata": {
      "needs_background": "light"
     },
     "output_type": "display_data"
    },
    {
     "data": {
      "image/png": "[encoded data removed]",
      "text/plain": [
       "<Figure size 432x288 with 1 Axes>"
      ]
     },
     "metadata": {
      "needs_background": "light"
     },
     "output_type": "display_data"
    }
   ],
   "source": [
    "plt.plot(P_JJ1[:,0], P_JJ1[:,1])\n",
    "plt.plot(P_JJ4[:,0], P_JJ4[:,1])\n",
    "\n",
    "plt.figure()\n",
    "\n",
    "plt.plot(V_JJ1[:,0], V_JJ1[:,1])\n",
    "plt.plot(V_JJ4[:,0], V_JJ4[:,1])\n",
    "# plt.plot(V_JJ3[:,0], V_JJ3[:,1])"
   ]
  },
  {
   "cell_type": "code",
   "execution_count": 10,
   "id": "0462bd16",
   "metadata": {},
   "outputs": [
    {
     "data": {
      "text/plain": [
       "35"
      ]
     },
     "execution_count": 10,
     "metadata": {},
     "output_type": "execute_result"
    }
   ],
   "source": [
    "len(fc.object_list)"
   ]
  },
  {
   "cell_type": "code",
   "execution_count": 11,
   "id": "51020281",
   "metadata": {},
   "outputs": [
    {
     "data": {
      "text/plain": [
       "[]"
      ]
     },
     "execution_count": 11,
     "metadata": {},
     "output_type": "execute_result"
    }
   ],
   "source": [
    "fc.lin_eq"
   ]
  },
  {
   "cell_type": "code",
   "execution_count": 12,
   "id": "c62e7ac2",
   "metadata": {},
   "outputs": [
    {
     "data": {
      "text/plain": [
       "[Eq(Derivative(y[1], t), y[14]),\n",
       " Eq(Derivative(y[2], t), y[15]),\n",
       " Eq(Derivative(y[3], t), y[16]),\n",
       " Eq(Derivative(y[4], t), y[17]),\n",
       " Eq(Derivative(y[5], t), y[18]),\n",
       " Eq(Derivative(y[6], t), y[19]),\n",
       " Eq(Derivative(y[7], t), y[20]),\n",
       " Eq(Derivative(y[8], t), y[21]),\n",
       " Eq(Derivative(y[9], t), y[22]),\n",
       " Eq(Derivative(y[10], t), y[23]),\n",
       " Eq(Derivative(y[11], t), y[24]),\n",
       " Eq(Derivative(y[12], t), y[25]),\n",
       " Eq(Derivative(y[13], t), y[26])]"
      ]
     },
     "execution_count": 12,
     "metadata": {},
     "output_type": "execute_result"
    }
   ],
   "source": [
    "fc.diff_eq"
   ]
  },
  {
   "cell_type": "code",
   "execution_count": 16,
   "id": "4871bb01",
   "metadata": {},
   "outputs": [
    {
     "data": {
      "text/plain": [
       "[gauss_I(t, 5, 10, 15, 100) - sin(y[1]) - Derivative(y[1], t) + y[11]/3 - y[1]/3,\n",
       " -sin(y[2]) - Derivative(y[2], t) + y[11]/3 - 2*y[2]/3 + y[3]/3,\n",
       " -sin(y[3]) - Derivative(y[3], t) + y[2]/3 - 1.66666666666667*y[3] + 1.33333333333333*y[4],\n",
       " -sin(y[4] - y[5]) - sin(y[4]) - 2*Derivative(y[4], t) + Derivative(y[5], t) + 1.33333333333333*y[3] - 1.66666666666667*y[4] + y[8]/3,\n",
       " sin(y[4] - y[5]) + Derivative(y[4], t) - Derivative(y[5], t) - y[5]/3 + y[6]/3,\n",
       " -sin(y[6]) - Derivative(y[6], t) + y[12]/3 + y[5]/3 - 2*y[6]/3,\n",
       " gauss_I(t, 4, 0.01, 15, 500) - sin(y[7]) - Derivative(y[7], t) + y[12]/3 - y[7]/3,\n",
       " -sin(y[8]) - Derivative(y[8], t) + y[4]/3 - 2*y[8]/3 + y[9]/3,\n",
       " -sin(y[9]) - Derivative(y[9], t) + y[13]/3 + y[8]/3 - 2*y[9]/3 + 0.75,\n",
       " -sin(y[10]) - Derivative(y[10], t) - y[10]/3 + y[13]/3 + 0.75,\n",
       " -sin(y[11]) - Derivative(y[11], t) - 2*y[11]/3 + y[1]/3 + y[2]/3,\n",
       " -sin(y[12]) - Derivative(y[12], t) - 2*y[12]/3 + y[6]/3 + y[7]/3,\n",
       " -sin(y[13]) - Derivative(y[13], t) + y[10]/3 - 2*y[13]/3 + y[9]/3 + 0.75]"
      ]
     },
     "execution_count": 16,
     "metadata": {},
     "output_type": "execute_result"
    }
   ],
   "source": [
    "fc.out_B"
   ]
  },
  {
   "cell_type": "code",
   "execution_count": 4,
   "id": "61971e24",
   "metadata": {},
   "outputs": [
    {
     "data": {
      "text/latex": [
       "$\\displaystyle \\left[\\begin{array}{ccccccccccccc}1 & 0 & 0 & 0 & 0 & 0 & 0 & 0 & 0 & 0 & 0 & 0 & 0\\\\0 & 1 & 0 & 0 & 0 & 0 & 0 & 0 & 0 & 0 & 0 & 0 & 0\\\\0 & 0 & 1 & 0 & 0 & 0 & 0 & 0 & 0 & 0 & 0 & 0 & 0\\\\0 & 0 & 0 & 2 & -1 & 0 & 0 & 0 & 0 & 0 & 0 & 0 & 0\\\\0 & 0 & 0 & -1 & 1 & 0 & 0 & 0 & 0 & 0 & 0 & 0 & 0\\\\0 & 0 & 0 & 0 & 0 & 1 & 0 & 0 & 0 & 0 & 0 & 0 & 0\\\\0 & 0 & 0 & 0 & 0 & 0 & 1 & 0 & 0 & 0 & 0 & 0 & 0\\\\0 & 0 & 0 & 0 & 0 & 0 & 0 & 1 & 0 & 0 & 0 & 0 & 0\\\\0 & 0 & 0 & 0 & 0 & 0 & 0 & 0 & 1 & 0 & 0 & 0 & 0\\\\0 & 0 & 0 & 0 & 0 & 0 & 0 & 0 & 0 & 1 & 0 & 0 & 0\\\\0 & 0 & 0 & 0 & 0 & 0 & 0 & 0 & 0 & 0 & 1 & 0 & 0\\\\0 & 0 & 0 & 0 & 0 & 0 & 0 & 0 & 0 & 0 & 0 & 1 & 0\\\\0 & 0 & 0 & 0 & 0 & 0 & 0 & 0 & 0 & 0 & 0 & 0 & 1\\end{array}\\right]$"
      ],
      "text/plain": [
       "Matrix([\n",
       "[1, 0, 0,  0,  0, 0, 0, 0, 0, 0, 0, 0, 0],\n",
       "[0, 1, 0,  0,  0, 0, 0, 0, 0, 0, 0, 0, 0],\n",
       "[0, 0, 1,  0,  0, 0, 0, 0, 0, 0, 0, 0, 0],\n",
       "[0, 0, 0,  2, -1, 0, 0, 0, 0, 0, 0, 0, 0],\n",
       "[0, 0, 0, -1,  1, 0, 0, 0, 0, 0, 0, 0, 0],\n",
       "[0, 0, 0,  0,  0, 1, 0, 0, 0, 0, 0, 0, 0],\n",
       "[0, 0, 0,  0,  0, 0, 1, 0, 0, 0, 0, 0, 0],\n",
       "[0, 0, 0,  0,  0, 0, 0, 1, 0, 0, 0, 0, 0],\n",
       "[0, 0, 0,  0,  0, 0, 0, 0, 1, 0, 0, 0, 0],\n",
       "[0, 0, 0,  0,  0, 0, 0, 0, 0, 1, 0, 0, 0],\n",
       "[0, 0, 0,  0,  0, 0, 0, 0, 0, 0, 1, 0, 0],\n",
       "[0, 0, 0,  0,  0, 0, 0, 0, 0, 0, 0, 1, 0],\n",
       "[0, 0, 0,  0,  0, 0, 0, 0, 0, 0, 0, 0, 1]])"
      ]
     },
     "execution_count": 4,
     "metadata": {},
     "output_type": "execute_result"
    }
   ],
   "source": [
    "fc.out_A"
   ]
  },
  {
   "cell_type": "code",
   "execution_count": 12,
   "id": "e6d7d972",
   "metadata": {},
   "outputs": [
    {
     "data": {
      "text/plain": [
       "[Derivative(y[14], t),\n",
       " Derivative(y[15], t),\n",
       " Derivative(y[16], t),\n",
       " Derivative(y[17], t),\n",
       " Derivative(y[18], t),\n",
       " Derivative(y[19], t),\n",
       " Derivative(y[20], t),\n",
       " Derivative(y[21], t),\n",
       " Derivative(y[22], t),\n",
       " Derivative(y[23], t),\n",
       " Derivative(y[24], t),\n",
       " Derivative(y[25], t),\n",
       " Derivative(y[26], t)]"
      ]
     },
     "execution_count": 12,
     "metadata": {},
     "output_type": "execute_result"
    }
   ],
   "source": [
    "fc.out_X"
   ]
  },
  {
   "cell_type": "code",
   "execution_count": 13,
   "id": "52c6011b",
   "metadata": {},
   "outputs": [
    {
     "data": {
      "text/plain": [
       "[Eq(I[JJ1], JJ1.A*sin(y[3]) + JJ1.al*Derivative(y[3], t) + Derivative(y[N + 3], t)),\n",
       " Eq(I[JJ2], JJ2.A*sin(y[4]) + JJ2.al*Derivative(y[4], t) + Derivative(y[N + 4], t)),\n",
       " Eq(I[JJ3], JJ3.A*sin(y[8]) + JJ3.al*Derivative(y[8], t) + Derivative(y[N + 8], t)),\n",
       " Eq(I[JJ4], -JJ4.A*sin(y[4] - y[5]) + JJ4.al*(-Derivative(y[4], t) + Derivative(y[5], t)) - Derivative(y[N + 4], t) + Derivative(y[N + 5], t)),\n",
       " Eq(I[L1], (y[3] - y[4])/L1.val),\n",
       " Eq(I[L2], (y[4] - y[8])/L2.val),\n",
       " Eq(I[L3], (y[2] - y[3])/L3.val),\n",
       " Eq(I[L4], (-y[5] + y[6])/L4.val),\n",
       " Eq(I[L5], (y[8] - y[9])/L5.val),\n",
       " Eq(I[Pulses1], -gauss_I(t, Pulses1.t0, Pulses1.A, Pulses1.D, Pulses1.T)),\n",
       " Eq(I[Pulses2], -gauss_I(t, Pulses2.t0, Pulses2.A, Pulses2.D, Pulses2.T)),\n",
       " Eq(I[JTL1_JJ1], JTL1_JJ1.A*sin(y[1]) + JTL1_JJ1.al*Derivative(y[1], t) + Derivative(y[N + 1], t)),\n",
       " Eq(I[JTL1_Ib1], -JTL1_Ib1.val),\n",
       " Eq(I[JTL1_L1], (-y[11] + y[1])/JTL1_L1.val),\n",
       " Eq(I[JTL1_JJ2], JTL1_JJ2.A*sin(y[11]) + JTL1_JJ2.al*Derivative(y[11], t) + Derivative(y[N + 11], t)),\n",
       " Eq(I[JTL1_Ib2], -JTL1_Ib2.val),\n",
       " Eq(I[JTL1_L2], (y[11] - y[2])/JTL1_L2.val),\n",
       " Eq(I[JTL1_JJ3], JTL1_JJ3.A*sin(y[2]) + JTL1_JJ3.al*Derivative(y[2], t) + Derivative(y[N + 2], t)),\n",
       " Eq(I[JTL1_Ib3], -JTL1_Ib3.val),\n",
       " Eq(I[JTL2_JJ1], JTL2_JJ1.A*sin(y[7]) + JTL2_JJ1.al*Derivative(y[7], t) + Derivative(y[N + 7], t)),\n",
       " Eq(I[JTL2_Ib1], -JTL2_Ib1.val),\n",
       " Eq(I[JTL2_L1], (-y[12] + y[7])/JTL2_L1.val),\n",
       " Eq(I[JTL2_JJ2], JTL2_JJ2.A*sin(y[12]) + JTL2_JJ2.al*Derivative(y[12], t) + Derivative(y[N + 12], t)),\n",
       " Eq(I[JTL2_Ib2], -JTL2_Ib2.val),\n",
       " Eq(I[JTL2_L2], (y[12] - y[6])/JTL2_L2.val),\n",
       " Eq(I[JTL2_JJ3], JTL2_JJ3.A*sin(y[6]) + JTL2_JJ3.al*Derivative(y[6], t) + Derivative(y[N + 6], t)),\n",
       " Eq(I[JTL2_Ib3], -JTL2_Ib3.val),\n",
       " Eq(I[JTL3_JJ1], JTL3_JJ1.A*sin(y[9]) + JTL3_JJ1.al*Derivative(y[9], t) + Derivative(y[N + 9], t)),\n",
       " Eq(I[JTL3_Ib1], -JTL3_Ib1.val),\n",
       " Eq(I[JTL3_L1], (-y[13] + y[9])/JTL3_L1.val),\n",
       " Eq(I[JTL3_JJ2], JTL3_JJ2.A*sin(y[13]) + JTL3_JJ2.al*Derivative(y[13], t) + Derivative(y[N + 13], t)),\n",
       " Eq(I[JTL3_Ib2], -JTL3_Ib2.val),\n",
       " Eq(I[JTL3_L2], (-y[10] + y[13])/JTL3_L2.val),\n",
       " Eq(I[JTL3_JJ3], JTL3_JJ3.A*sin(y[10]) + JTL3_JJ3.al*Derivative(y[10], t) + Derivative(y[N + 10], t)),\n",
       " Eq(I[JTL3_Ib3], -JTL3_Ib3.val)]"
      ]
     },
     "execution_count": 13,
     "metadata": {},
     "output_type": "execute_result"
    }
   ],
   "source": [
    "fc.current_eq"
   ]
  },
  {
   "cell_type": "code",
   "execution_count": 14,
   "id": "04a1cd22",
   "metadata": {},
   "outputs": [
    {
     "data": {
      "text/plain": [
       "[Eq(Derivative(y[1], t), y[N + 1]),\n",
       " Eq(Derivative(y[2], t), y[N + 2]),\n",
       " Eq(Derivative(y[3], t), y[N + 3]),\n",
       " Eq(Derivative(y[4], t), y[N + 4]),\n",
       " Eq(Derivative(y[5], t), y[N + 5]),\n",
       " Eq(Derivative(y[6], t), y[N + 6]),\n",
       " Eq(Derivative(y[7], t), y[N + 7]),\n",
       " Eq(Derivative(y[8], t), y[N + 8]),\n",
       " Eq(Derivative(y[9], t), y[N + 9]),\n",
       " Eq(Derivative(y[10], t), y[N + 10]),\n",
       " Eq(Derivative(y[11], t), y[N + 11]),\n",
       " Eq(Derivative(y[12], t), y[N + 12]),\n",
       " Eq(Derivative(y[13], t), y[N + 13]),\n",
       " Eq(Derivative(y[N + 1], t), Derivative(y[N + 1], t) - I[JTL1_Ib1] - I[JTL1_JJ1] - I[JTL1_L1] - I[Pulses1]),\n",
       " Eq(Derivative(y[N + 2], t), Derivative(y[N + 2], t) - I[JTL1_Ib3] - I[JTL1_JJ3] + I[JTL1_L2] - I[L3]),\n",
       " Eq(Derivative(y[N + 3], t), Derivative(y[N + 3], t) - I[JJ1] - I[L1] + I[L3]),\n",
       " Eq(Derivative(y[N + 4], t), Derivative(y[N + 4], t) - I[JJ2] + I[JJ4] + I[L1] - I[L2]),\n",
       " Eq(Derivative(y[N + 5], t), Derivative(y[N + 5], t) - I[JJ4] + I[L4]),\n",
       " Eq(Derivative(y[N + 6], t), Derivative(y[N + 6], t) - I[JTL2_Ib3] - I[JTL2_JJ3] + I[JTL2_L2] - I[L4]),\n",
       " Eq(Derivative(y[N + 7], t), Derivative(y[N + 7], t) - I[JTL2_Ib1] - I[JTL2_JJ1] - I[JTL2_L1] - I[Pulses2]),\n",
       " Eq(Derivative(y[N + 8], t), Derivative(y[N + 8], t) - I[JJ3] + I[L2] - I[L5]),\n",
       " Eq(Derivative(y[N + 9], t), Derivative(y[N + 9], t) - I[JTL3_Ib1] - I[JTL3_JJ1] - I[JTL3_L1] + I[L5]),\n",
       " Eq(Derivative(y[N + 10], t), Derivative(y[N + 10], t) - I[JTL3_Ib3] - I[JTL3_JJ3] + I[JTL3_L2]),\n",
       " Eq(Derivative(y[N + 11], t), Derivative(y[N + 11], t) - I[JTL1_Ib2] - I[JTL1_JJ2] + I[JTL1_L1] - I[JTL1_L2]),\n",
       " Eq(Derivative(y[N + 12], t), Derivative(y[N + 12], t) - I[JTL2_Ib2] - I[JTL2_JJ2] + I[JTL2_L1] - I[JTL2_L2]),\n",
       " Eq(Derivative(y[N + 13], t), Derivative(y[N + 13], t) - I[JTL3_Ib2] - I[JTL3_JJ2] + I[JTL3_L1] - I[JTL3_L2])]"
      ]
     },
     "execution_count": 14,
     "metadata": {},
     "output_type": "execute_result"
    }
   ],
   "source": [
    "fc.another_eq"
   ]
  },
  {
   "cell_type": "code",
   "execution_count": 15,
   "id": "9746cc77",
   "metadata": {},
   "outputs": [
    {
     "data": {
      "text/plain": [
       "[Eq(Derivative(y[1], t), y[N + 1]),\n",
       " Eq(Derivative(y[2], t), y[N + 2]),\n",
       " Eq(Derivative(y[3], t), y[N + 3]),\n",
       " Eq(Derivative(y[4], t), y[N + 4]),\n",
       " Eq(Derivative(y[5], t), y[N + 5]),\n",
       " Eq(Derivative(y[6], t), y[N + 6]),\n",
       " Eq(Derivative(y[7], t), y[N + 7]),\n",
       " Eq(Derivative(y[8], t), y[N + 8]),\n",
       " Eq(Derivative(y[9], t), y[N + 9]),\n",
       " Eq(Derivative(y[10], t), y[N + 10]),\n",
       " Eq(Derivative(y[11], t), y[N + 11]),\n",
       " Eq(Derivative(y[12], t), y[N + 12]),\n",
       " Eq(Derivative(y[13], t), y[N + 13]),\n",
       " Eq(Derivative(y[N + 1], t), JTL1_Ib1.val - JTL1_JJ1.A*sin(y[1]) - JTL1_JJ1.al*Derivative(y[1], t) + gauss_I(t, Pulses1.t0, Pulses1.A, Pulses1.D, Pulses1.T) - (-y[11] + y[1])/JTL1_L1.val),\n",
       " Eq(Derivative(y[N + 2], t), JTL1_Ib3.val - JTL1_JJ3.A*sin(y[2]) - JTL1_JJ3.al*Derivative(y[2], t) - (y[2] - y[3])/L3.val + (y[11] - y[2])/JTL1_L2.val),\n",
       " Eq(Derivative(y[N + 3], t), -JJ1.A*sin(y[3]) - JJ1.al*Derivative(y[3], t) + (y[2] - y[3])/L3.val - (y[3] - y[4])/L1.val),\n",
       " Eq(Derivative(y[N + 4], t), -JJ2.A*sin(y[4]) - JJ2.al*Derivative(y[4], t) - JJ4.A*sin(y[4] - y[5]) + JJ4.al*(-Derivative(y[4], t) + Derivative(y[5], t)) - Derivative(y[N + 4], t) + Derivative(y[N + 5], t) - (y[4] - y[8])/L2.val + (y[3] - y[4])/L1.val),\n",
       " Eq(Derivative(y[N + 5], t), JJ4.A*sin(y[4] - y[5]) - JJ4.al*(-Derivative(y[4], t) + Derivative(y[5], t)) + Derivative(y[N + 4], t) + (-y[5] + y[6])/L4.val),\n",
       " Eq(Derivative(y[N + 6], t), JTL2_Ib3.val - JTL2_JJ3.A*sin(y[6]) - JTL2_JJ3.al*Derivative(y[6], t) - (-y[5] + y[6])/L4.val + (y[12] - y[6])/JTL2_L2.val),\n",
       " Eq(Derivative(y[N + 7], t), JTL2_Ib1.val - JTL2_JJ1.A*sin(y[7]) - JTL2_JJ1.al*Derivative(y[7], t) + gauss_I(t, Pulses2.t0, Pulses2.A, Pulses2.D, Pulses2.T) - (-y[12] + y[7])/JTL2_L1.val),\n",
       " Eq(Derivative(y[N + 8], t), -JJ3.A*sin(y[8]) - JJ3.al*Derivative(y[8], t) - (y[8] - y[9])/L5.val + (y[4] - y[8])/L2.val),\n",
       " Eq(Derivative(y[N + 9], t), JTL3_Ib1.val - JTL3_JJ1.A*sin(y[9]) - JTL3_JJ1.al*Derivative(y[9], t) + (y[8] - y[9])/L5.val - (-y[13] + y[9])/JTL3_L1.val),\n",
       " Eq(Derivative(y[N + 10], t), JTL3_Ib3.val - JTL3_JJ3.A*sin(y[10]) - JTL3_JJ3.al*Derivative(y[10], t) + (-y[10] + y[13])/JTL3_L2.val),\n",
       " Eq(Derivative(y[N + 11], t), JTL1_Ib2.val - JTL1_JJ2.A*sin(y[11]) - JTL1_JJ2.al*Derivative(y[11], t) - (y[11] - y[2])/JTL1_L2.val + (-y[11] + y[1])/JTL1_L1.val),\n",
       " Eq(Derivative(y[N + 12], t), JTL2_Ib2.val - JTL2_JJ2.A*sin(y[12]) - JTL2_JJ2.al*Derivative(y[12], t) - (y[12] - y[6])/JTL2_L2.val + (-y[12] + y[7])/JTL2_L1.val),\n",
       " Eq(Derivative(y[N + 13], t), JTL3_Ib2.val - JTL3_JJ2.A*sin(y[13]) - JTL3_JJ2.al*Derivative(y[13], t) - (-y[10] + y[13])/JTL3_L2.val + (-y[13] + y[9])/JTL3_L1.val)]"
      ]
     },
     "execution_count": 15,
     "metadata": {},
     "output_type": "execute_result"
    }
   ],
   "source": [
    "fc.final_system"
   ]
  },
  {
   "cell_type": "code",
   "execution_count": 15,
   "id": "8041d45c",
   "metadata": {},
   "outputs": [
    {
     "data": {
      "text/plain": [
       "[JTL1_Ib1.val - JTL1_JJ1.A*sin(y[1]) - JTL1_JJ1.al*Derivative(y[1], t) + gauss_I(t, Pulses1.t0, Pulses1.A, Pulses1.D, Pulses1.T) - (-y[11] + y[1])/JTL1_L1.val,\n",
       " JTL1_Ib3.val - JTL1_JJ3.A*sin(y[2]) - JTL1_JJ3.al*Derivative(y[2], t) - (y[2] - y[3])/L3.val + (y[11] - y[2])/JTL1_L2.val,\n",
       " -JJ1.A*sin(y[3]) - JJ1.al*Derivative(y[3], t) + (y[2] - y[3])/L3.val - (y[3] - y[4])/L1.val,\n",
       " -JJ2.A*sin(y[4]) - JJ2.al*Derivative(y[4], t) - JJ4.A*sin(y[4] - y[5]) + JJ4.al*(-Derivative(y[4], t) + Derivative(y[5], t)) - (y[4] - y[8])/L2.val + (y[3] - y[4])/L1.val,\n",
       " JJ4.A*sin(y[4] - y[5]) - JJ4.al*(-Derivative(y[4], t) + Derivative(y[5], t)) + (-y[5] + y[6])/L4.val,\n",
       " JTL2_Ib3.val - JTL2_JJ3.A*sin(y[6]) - JTL2_JJ3.al*Derivative(y[6], t) - (-y[5] + y[6])/L4.val + (y[12] - y[6])/JTL2_L2.val,\n",
       " JTL2_Ib1.val - JTL2_JJ1.A*sin(y[7]) - JTL2_JJ1.al*Derivative(y[7], t) + gauss_I(t, Pulses2.t0, Pulses2.A, Pulses2.D, Pulses2.T) - (-y[12] + y[7])/JTL2_L1.val,\n",
       " -JJ3.A*sin(y[8]) - JJ3.al*Derivative(y[8], t) - (y[8] - y[9])/L5.val + (y[4] - y[8])/L2.val,\n",
       " JTL3_Ib1.val - JTL3_JJ1.A*sin(y[9]) - JTL3_JJ1.al*Derivative(y[9], t) + (y[8] - y[9])/L5.val - (-y[13] + y[9])/JTL3_L1.val,\n",
       " JTL3_Ib3.val - JTL3_JJ3.A*sin(y[10]) - JTL3_JJ3.al*Derivative(y[10], t) + (-y[10] + y[13])/JTL3_L2.val,\n",
       " JTL1_Ib2.val - JTL1_JJ2.A*sin(y[11]) - JTL1_JJ2.al*Derivative(y[11], t) - (y[11] - y[2])/JTL1_L2.val + (-y[11] + y[1])/JTL1_L1.val,\n",
       " JTL2_Ib2.val - JTL2_JJ2.A*sin(y[12]) - JTL2_JJ2.al*Derivative(y[12], t) - (y[12] - y[6])/JTL2_L2.val + (-y[12] + y[7])/JTL2_L1.val,\n",
       " JTL3_Ib2.val - JTL3_JJ2.A*sin(y[13]) - JTL3_JJ2.al*Derivative(y[13], t) - (-y[10] + y[13])/JTL3_L2.val + (-y[13] + y[9])/JTL3_L1.val]"
      ]
     },
     "execution_count": 15,
     "metadata": {},
     "output_type": "execute_result"
    }
   ],
   "source": [
    "fc.B"
   ]
  }
 ],
 "metadata": {
  "kernelspec": {
   "display_name": "Python 3",
   "language": "python",
   "name": "python3"
  },
  "language_info": {
   "codemirror_mode": {
    "name": "ipython",
    "version": 3
   },
   "file_extension": ".py",
   "mimetype": "text/x-python",
   "name": "python",
   "nbconvert_exporter": "python",
   "pygments_lexer": "ipython3",
   "version": "3.8.8"
  }
 },
 "nbformat": 4,
 "nbformat_minor": 5
}
